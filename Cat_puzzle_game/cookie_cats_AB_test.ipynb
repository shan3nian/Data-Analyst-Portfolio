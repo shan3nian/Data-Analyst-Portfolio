{
 "cells": [
  {
   "cell_type": "markdown",
   "id": "e6a5603f",
   "metadata": {},
   "source": [
    "## Mobile Games A/B Testing - Cookie Cats"
   ]
  },
  {
   "cell_type": "markdown",
   "id": "7edaba13",
   "metadata": {},
   "source": [
    "##### Project Goal\n",
    "Trying to use A/B test results of Cookie Cats to examine what happens when the first gate in the game was moved from level 30 to level 40. When a player installed the game, he or she was randomly assigned to either gate_30 or gate_40."
   ]
  },
  {
   "cell_type": "code",
   "execution_count": 1,
   "id": "1dc5ff0f",
   "metadata": {},
   "outputs": [
    {
     "data": {
      "text/html": [
       "<div>\n",
       "<style scoped>\n",
       "    .dataframe tbody tr th:only-of-type {\n",
       "        vertical-align: middle;\n",
       "    }\n",
       "\n",
       "    .dataframe tbody tr th {\n",
       "        vertical-align: top;\n",
       "    }\n",
       "\n",
       "    .dataframe thead th {\n",
       "        text-align: right;\n",
       "    }\n",
       "</style>\n",
       "<table border=\"1\" class=\"dataframe\">\n",
       "  <thead>\n",
       "    <tr style=\"text-align: right;\">\n",
       "      <th></th>\n",
       "      <th>userid</th>\n",
       "      <th>version</th>\n",
       "      <th>sum_gamerounds</th>\n",
       "      <th>retention_1</th>\n",
       "      <th>retention_7</th>\n",
       "    </tr>\n",
       "  </thead>\n",
       "  <tbody>\n",
       "    <tr>\n",
       "      <th>0</th>\n",
       "      <td>116</td>\n",
       "      <td>gate_30</td>\n",
       "      <td>3</td>\n",
       "      <td>False</td>\n",
       "      <td>False</td>\n",
       "    </tr>\n",
       "    <tr>\n",
       "      <th>1</th>\n",
       "      <td>337</td>\n",
       "      <td>gate_30</td>\n",
       "      <td>38</td>\n",
       "      <td>True</td>\n",
       "      <td>False</td>\n",
       "    </tr>\n",
       "    <tr>\n",
       "      <th>2</th>\n",
       "      <td>377</td>\n",
       "      <td>gate_40</td>\n",
       "      <td>165</td>\n",
       "      <td>True</td>\n",
       "      <td>False</td>\n",
       "    </tr>\n",
       "    <tr>\n",
       "      <th>3</th>\n",
       "      <td>483</td>\n",
       "      <td>gate_40</td>\n",
       "      <td>1</td>\n",
       "      <td>False</td>\n",
       "      <td>False</td>\n",
       "    </tr>\n",
       "    <tr>\n",
       "      <th>4</th>\n",
       "      <td>488</td>\n",
       "      <td>gate_40</td>\n",
       "      <td>179</td>\n",
       "      <td>True</td>\n",
       "      <td>True</td>\n",
       "    </tr>\n",
       "  </tbody>\n",
       "</table>\n",
       "</div>"
      ],
      "text/plain": [
       "   userid  version  sum_gamerounds  retention_1  retention_7\n",
       "0     116  gate_30               3        False        False\n",
       "1     337  gate_30              38         True        False\n",
       "2     377  gate_40             165         True        False\n",
       "3     483  gate_40               1        False        False\n",
       "4     488  gate_40             179         True         True"
      ]
     },
     "execution_count": 1,
     "metadata": {},
     "output_type": "execute_result"
    }
   ],
   "source": [
    "# import packages and read the dataset\n",
    "\n",
    "import pandas as pd\n",
    "import numpy as np\n",
    "import matplotlib.pyplot as plt\n",
    "import seaborn as sns\n",
    "from scipy import stats as st\n",
    "from scipy.stats import shapiro, levene, mannwhitneyu\n",
    "\n",
    "dataset=pd.read_csv(\"cookie_cats.csv\")\n",
    "dataset=pd.DataFrame(dataset)\n",
    "df=dataset.copy()\n",
    "df.head()"
   ]
  },
  {
   "cell_type": "markdown",
   "id": "75f0a86f",
   "metadata": {},
   "source": [
    "### Dataset Overview"
   ]
  },
  {
   "cell_type": "code",
   "execution_count": 2,
   "id": "c1bc7a8c",
   "metadata": {},
   "outputs": [
    {
     "name": "stdout",
     "output_type": "stream",
     "text": [
      "Data size is (90189, 5)\n"
     ]
    }
   ],
   "source": [
    "print('Data size is',df.shape)"
   ]
  },
  {
   "cell_type": "code",
   "execution_count": 3,
   "id": "9ad7f26c",
   "metadata": {},
   "outputs": [
    {
     "name": "stdout",
     "output_type": "stream",
     "text": [
      "<class 'pandas.core.frame.DataFrame'>\n",
      "RangeIndex: 90189 entries, 0 to 90188\n",
      "Data columns (total 5 columns):\n",
      " #   Column          Non-Null Count  Dtype \n",
      "---  ------          --------------  ----- \n",
      " 0   userid          90189 non-null  int64 \n",
      " 1   version         90189 non-null  object\n",
      " 2   sum_gamerounds  90189 non-null  int64 \n",
      " 3   retention_1     90189 non-null  bool  \n",
      " 4   retention_7     90189 non-null  bool  \n",
      "dtypes: bool(2), int64(2), object(1)\n",
      "memory usage: 2.2+ MB\n"
     ]
    }
   ],
   "source": [
    "df.info()"
   ]
  },
  {
   "cell_type": "code",
   "execution_count": 4,
   "id": "932b8d38",
   "metadata": {},
   "outputs": [],
   "source": [
    "# userid is not a number, so I change it to object in the dataset\n",
    "df['userid']=df['userid'].astype(object)"
   ]
  },
  {
   "cell_type": "code",
   "execution_count": 5,
   "id": "ddf8a394",
   "metadata": {},
   "outputs": [
    {
     "data": {
      "image/png": "[encoded data removed]",
      "text/plain": [
       "<Figure size 432x432 with 1 Axes>"
      ]
     },
     "metadata": {},
     "output_type": "display_data"
    }
   ],
   "source": [
    "# Compare the Number of players in two groups; show in a pie chart.\n",
    "group=pd.value_counts(df['version'])\n",
    "plt.figure(figsize=(6,6))\n",
    "plt.pie(group,labels= group.index ,autopct='%.2f%%')\n",
    "plt.show()"
   ]
  },
  {
   "cell_type": "code",
   "execution_count": 6,
   "id": "50fcb0d0",
   "metadata": {},
   "outputs": [
    {
     "data": {
      "text/html": [
       "<div>\n",
       "<style scoped>\n",
       "    .dataframe tbody tr th:only-of-type {\n",
       "        vertical-align: middle;\n",
       "    }\n",
       "\n",
       "    .dataframe tbody tr th {\n",
       "        vertical-align: top;\n",
       "    }\n",
       "\n",
       "    .dataframe thead th {\n",
       "        text-align: right;\n",
       "    }\n",
       "</style>\n",
       "<table border=\"1\" class=\"dataframe\">\n",
       "  <thead>\n",
       "    <tr style=\"text-align: right;\">\n",
       "      <th></th>\n",
       "      <th>count</th>\n",
       "      <th>mean</th>\n",
       "      <th>std</th>\n",
       "      <th>min</th>\n",
       "      <th>25%</th>\n",
       "      <th>50%</th>\n",
       "      <th>75%</th>\n",
       "      <th>max</th>\n",
       "    </tr>\n",
       "  </thead>\n",
       "  <tbody>\n",
       "    <tr>\n",
       "      <th>sum_gamerounds</th>\n",
       "      <td>90189.0</td>\n",
       "      <td>51.872457</td>\n",
       "      <td>195.050858</td>\n",
       "      <td>0.0</td>\n",
       "      <td>5.0</td>\n",
       "      <td>16.0</td>\n",
       "      <td>51.0</td>\n",
       "      <td>49854.0</td>\n",
       "    </tr>\n",
       "  </tbody>\n",
       "</table>\n",
       "</div>"
      ],
      "text/plain": [
       "                  count       mean         std  min  25%   50%   75%      max\n",
       "sum_gamerounds  90189.0  51.872457  195.050858  0.0  5.0  16.0  51.0  49854.0"
      ]
     },
     "execution_count": 6,
     "metadata": {},
     "output_type": "execute_result"
    }
   ],
   "source": [
    "# show the statistical information of column sum_gamerounds\n",
    "df.describe().T"
   ]
  },
  {
   "cell_type": "code",
   "execution_count": 7,
   "id": "6e354273",
   "metadata": {},
   "outputs": [
    {
     "data": {
      "image/png": "[encoded data removed]",
      "text/plain": [
       "<Figure size 792x432 with 1 Axes>"
      ]
     },
     "metadata": {
      "needs_background": "light"
     },
     "output_type": "display_data"
    }
   ],
   "source": [
    "# Draw a single density plot of column sum_gamerounds by different group\n",
    "plt.figure(figsize=(11,6))\n",
    "sns.kdeplot(x = 'sum_gamerounds' , data = df , hue = 'version')\n",
    "plt.show()"
   ]
  },
  {
   "cell_type": "code",
   "execution_count": 8,
   "id": "e5129fc0",
   "metadata": {},
   "outputs": [
    {
     "data": {
      "text/html": [
       "<div>\n",
       "<style scoped>\n",
       "    .dataframe tbody tr th:only-of-type {\n",
       "        vertical-align: middle;\n",
       "    }\n",
       "\n",
       "    .dataframe tbody tr th {\n",
       "        vertical-align: top;\n",
       "    }\n",
       "\n",
       "    .dataframe thead th {\n",
       "        text-align: right;\n",
       "    }\n",
       "</style>\n",
       "<table border=\"1\" class=\"dataframe\">\n",
       "  <thead>\n",
       "    <tr style=\"text-align: right;\">\n",
       "      <th></th>\n",
       "      <th>userid</th>\n",
       "      <th>version</th>\n",
       "      <th>sum_gamerounds</th>\n",
       "      <th>retention_1</th>\n",
       "      <th>retention_7</th>\n",
       "    </tr>\n",
       "  </thead>\n",
       "  <tbody>\n",
       "    <tr>\n",
       "      <th>6</th>\n",
       "      <td>1066</td>\n",
       "      <td>gate_30</td>\n",
       "      <td>0</td>\n",
       "      <td>False</td>\n",
       "      <td>False</td>\n",
       "    </tr>\n",
       "    <tr>\n",
       "      <th>11</th>\n",
       "      <td>2101</td>\n",
       "      <td>gate_30</td>\n",
       "      <td>0</td>\n",
       "      <td>False</td>\n",
       "      <td>False</td>\n",
       "    </tr>\n",
       "    <tr>\n",
       "      <th>26</th>\n",
       "      <td>3095</td>\n",
       "      <td>gate_30</td>\n",
       "      <td>0</td>\n",
       "      <td>False</td>\n",
       "      <td>False</td>\n",
       "    </tr>\n",
       "    <tr>\n",
       "      <th>35</th>\n",
       "      <td>4076</td>\n",
       "      <td>gate_40</td>\n",
       "      <td>0</td>\n",
       "      <td>False</td>\n",
       "      <td>False</td>\n",
       "    </tr>\n",
       "    <tr>\n",
       "      <th>37</th>\n",
       "      <td>4176</td>\n",
       "      <td>gate_30</td>\n",
       "      <td>0</td>\n",
       "      <td>False</td>\n",
       "      <td>False</td>\n",
       "    </tr>\n",
       "    <tr>\n",
       "      <th>...</th>\n",
       "      <td>...</td>\n",
       "      <td>...</td>\n",
       "      <td>...</td>\n",
       "      <td>...</td>\n",
       "      <td>...</td>\n",
       "    </tr>\n",
       "    <tr>\n",
       "      <th>90067</th>\n",
       "      <td>9986185</td>\n",
       "      <td>gate_30</td>\n",
       "      <td>0</td>\n",
       "      <td>False</td>\n",
       "      <td>False</td>\n",
       "    </tr>\n",
       "    <tr>\n",
       "      <th>90093</th>\n",
       "      <td>9988600</td>\n",
       "      <td>gate_40</td>\n",
       "      <td>0</td>\n",
       "      <td>False</td>\n",
       "      <td>False</td>\n",
       "    </tr>\n",
       "    <tr>\n",
       "      <th>90116</th>\n",
       "      <td>9990773</td>\n",
       "      <td>gate_30</td>\n",
       "      <td>0</td>\n",
       "      <td>False</td>\n",
       "      <td>False</td>\n",
       "    </tr>\n",
       "    <tr>\n",
       "      <th>90147</th>\n",
       "      <td>9994604</td>\n",
       "      <td>gate_30</td>\n",
       "      <td>0</td>\n",
       "      <td>False</td>\n",
       "      <td>False</td>\n",
       "    </tr>\n",
       "    <tr>\n",
       "      <th>90176</th>\n",
       "      <td>9998285</td>\n",
       "      <td>gate_30</td>\n",
       "      <td>0</td>\n",
       "      <td>False</td>\n",
       "      <td>False</td>\n",
       "    </tr>\n",
       "  </tbody>\n",
       "</table>\n",
       "<p>3994 rows × 5 columns</p>\n",
       "</div>"
      ],
      "text/plain": [
       "        userid  version  sum_gamerounds  retention_1  retention_7\n",
       "6         1066  gate_30               0        False        False\n",
       "11        2101  gate_30               0        False        False\n",
       "26        3095  gate_30               0        False        False\n",
       "35        4076  gate_40               0        False        False\n",
       "37        4176  gate_30               0        False        False\n",
       "...        ...      ...             ...          ...          ...\n",
       "90067  9986185  gate_30               0        False        False\n",
       "90093  9988600  gate_40               0        False        False\n",
       "90116  9990773  gate_30               0        False        False\n",
       "90147  9994604  gate_30               0        False        False\n",
       "90176  9998285  gate_30               0        False        False\n",
       "\n",
       "[3994 rows x 5 columns]"
      ]
     },
     "execution_count": 8,
     "metadata": {},
     "output_type": "execute_result"
    }
   ],
   "source": [
    "# From above figure, it shows a high frequence close to 0 gameround. \n",
    "df[df['sum_gamerounds'] == 0]"
   ]
  },
  {
   "cell_type": "code",
   "execution_count": 9,
   "id": "3c70ef50",
   "metadata": {},
   "outputs": [
    {
     "name": "stdout",
     "output_type": "stream",
     "text": [
      "The percentage of installing the game and never playing it is 4.43 %\n"
     ]
    }
   ],
   "source": [
    "# To see the precentage of 0 game round in the dataset\n",
    "print(f'The percentage of installing the game and never playing it is {round(len(df[df.sum_gamerounds == 0]) / len(df) , 4) * 100} %')"
   ]
  },
  {
   "cell_type": "code",
   "execution_count": 10,
   "id": "48ba2679",
   "metadata": {},
   "outputs": [
    {
     "data": {
      "text/plain": [
       "<function matplotlib.pyplot.show(close=None, block=None)>"
      ]
     },
     "execution_count": 10,
     "metadata": {},
     "output_type": "execute_result"
    },
    {
     "data": {
      "image/png": "[encoded data removed]",
      "text/plain": [
       "<Figure size 432x288 with 1 Axes>"
      ]
     },
     "metadata": {
      "needs_background": "light"
     },
     "output_type": "display_data"
    }
   ],
   "source": [
    "# plot boxplot for value sum_gamerounds\n",
    "sns.boxplot(data=df,x='version',y='sum_gamerounds')\n",
    "plt.show"
   ]
  },
  {
   "cell_type": "code",
   "execution_count": 11,
   "id": "d7edd598",
   "metadata": {},
   "outputs": [],
   "source": [
    "# Clearly, there are outlier in gate_30. I am going to remove the outlier from the dataset.\n",
    "df=df[df['sum_gamerounds'] != max(df['sum_gamerounds'])]"
   ]
  },
  {
   "cell_type": "code",
   "execution_count": 12,
   "id": "37b8a9a9",
   "metadata": {},
   "outputs": [
    {
     "data": {
      "text/html": [
       "<div>\n",
       "<style scoped>\n",
       "    .dataframe tbody tr th:only-of-type {\n",
       "        vertical-align: middle;\n",
       "    }\n",
       "\n",
       "    .dataframe tbody tr th {\n",
       "        vertical-align: top;\n",
       "    }\n",
       "\n",
       "    .dataframe thead tr th {\n",
       "        text-align: left;\n",
       "    }\n",
       "\n",
       "    .dataframe thead tr:last-of-type th {\n",
       "        text-align: right;\n",
       "    }\n",
       "</style>\n",
       "<table border=\"1\" class=\"dataframe\">\n",
       "  <thead>\n",
       "    <tr>\n",
       "      <th></th>\n",
       "      <th>mean</th>\n",
       "      <th>max</th>\n",
       "      <th>count</th>\n",
       "    </tr>\n",
       "    <tr>\n",
       "      <th></th>\n",
       "      <th>sum_gamerounds</th>\n",
       "      <th>sum_gamerounds</th>\n",
       "      <th>sum_gamerounds</th>\n",
       "    </tr>\n",
       "    <tr>\n",
       "      <th>version</th>\n",
       "      <th></th>\n",
       "      <th></th>\n",
       "      <th></th>\n",
       "    </tr>\n",
       "  </thead>\n",
       "  <tbody>\n",
       "    <tr>\n",
       "      <th>gate_30</th>\n",
       "      <td>51.342111</td>\n",
       "      <td>2961</td>\n",
       "      <td>44699</td>\n",
       "    </tr>\n",
       "    <tr>\n",
       "      <th>gate_40</th>\n",
       "      <td>51.298776</td>\n",
       "      <td>2640</td>\n",
       "      <td>45489</td>\n",
       "    </tr>\n",
       "  </tbody>\n",
       "</table>\n",
       "</div>"
      ],
      "text/plain": [
       "                  mean            max          count\n",
       "        sum_gamerounds sum_gamerounds sum_gamerounds\n",
       "version                                             \n",
       "gate_30      51.342111           2961          44699\n",
       "gate_40      51.298776           2640          45489"
      ]
     },
     "execution_count": 12,
     "metadata": {},
     "output_type": "execute_result"
    }
   ],
   "source": [
    "pd.pivot_table(df,'sum_gamerounds','version',aggfunc=[np.mean,max,'count'])"
   ]
  },
  {
   "cell_type": "code",
   "execution_count": 13,
   "id": "910ff70a",
   "metadata": {},
   "outputs": [
    {
     "data": {
      "text/html": [
       "<div>\n",
       "<style scoped>\n",
       "    .dataframe tbody tr th:only-of-type {\n",
       "        vertical-align: middle;\n",
       "    }\n",
       "\n",
       "    .dataframe tbody tr th {\n",
       "        vertical-align: top;\n",
       "    }\n",
       "\n",
       "    .dataframe thead th {\n",
       "        text-align: right;\n",
       "    }\n",
       "</style>\n",
       "<table border=\"1\" class=\"dataframe\">\n",
       "  <thead>\n",
       "    <tr style=\"text-align: right;\">\n",
       "      <th></th>\n",
       "      <th>userid</th>\n",
       "      <th>retention_1</th>\n",
       "      <th>retention_7</th>\n",
       "    </tr>\n",
       "    <tr>\n",
       "      <th>version</th>\n",
       "      <th></th>\n",
       "      <th></th>\n",
       "      <th></th>\n",
       "    </tr>\n",
       "  </thead>\n",
       "  <tbody>\n",
       "    <tr>\n",
       "      <th>gate_30</th>\n",
       "      <td>44699</td>\n",
       "      <td>0.448198</td>\n",
       "      <td>0.190183</td>\n",
       "    </tr>\n",
       "    <tr>\n",
       "      <th>gate_40</th>\n",
       "      <td>45489</td>\n",
       "      <td>0.442283</td>\n",
       "      <td>0.182000</td>\n",
       "    </tr>\n",
       "  </tbody>\n",
       "</table>\n",
       "</div>"
      ],
      "text/plain": [
       "         userid  retention_1  retention_7\n",
       "version                                  \n",
       "gate_30   44699     0.448198     0.190183\n",
       "gate_40   45489     0.442283     0.182000"
      ]
     },
     "execution_count": 13,
     "metadata": {},
     "output_type": "execute_result"
    }
   ],
   "source": [
    "# Want to see the precentage of player come back and play the game in 1 day and 7 day after they install the app.\n",
    "df.groupby('version').agg({\"userid\":\"count\", \"retention_1\":\"mean\",\"retention_7\":\"mean\"})"
   ]
  },
  {
   "cell_type": "markdown",
   "id": "f37cb039",
   "metadata": {},
   "source": [
    "### AB Test\n",
    "The control group is the plyer who assigned to gate_30. The experiment group is the plyer who assigned to gate_40."
   ]
  },
  {
   "cell_type": "code",
   "execution_count": 14,
   "id": "19f00ba1",
   "metadata": {},
   "outputs": [],
   "source": [
    "cont=df[df['version']=='gate_30'].reset_index().copy()\n",
    "exp=df[df['version']=='gate_40'].reset_index().copy()\n",
    "\n",
    "cont.retention_1 = cont.retention_1.replace({True: 1, False: 0})\n",
    "cont.retention_7 = cont.retention_7.replace({True: 1, False: 0})\n",
    "exp.retention_1 = exp.retention_1.replace({True: 1, False: 0})\n",
    "exp.retention_7 = exp.retention_7.replace({True: 1, False: 0})"
   ]
  },
  {
   "cell_type": "code",
   "execution_count": 15,
   "id": "250924fb",
   "metadata": {},
   "outputs": [],
   "source": [
    "from scipy import stats as st\n",
    "def AB_testing(A, B):\n",
    "    A_bar = np.mean(A)\n",
    "    A_var = np.var(A)\n",
    "    n1 = len(A)\n",
    "    \n",
    "    B_bar = np.mean(B)\n",
    "    B_var = np.var(B)\n",
    "    n2 = len(B)\n",
    "    \n",
    "    z_score = (A_bar - B_bar) / np.sqrt((A_var / n1) + (B_var / n2))\n",
    "    p_value = st.norm.cdf(z_score)\n",
    "    if z_score > 0:\n",
    "        p_value = 2*(1 - p_value)\n",
    "    else:\n",
    "        p_value = 2 * p_value\n",
    "    return print(f'z-score : {z_score} , p-value : {p_value}')"
   ]
  },
  {
   "cell_type": "code",
   "execution_count": 16,
   "id": "014e976a",
   "metadata": {},
   "outputs": [
    {
     "name": "stdout",
     "output_type": "stream",
     "text": [
      "z-score : 1.787114623538925 , p-value : 0.07391896442691603\n"
     ]
    }
   ],
   "source": [
    "# H0: w1=w2 ; same mean of retention_1 for two groups\n",
    "# H1: w1!=w2\n",
    "AB_testing(cont['retention_1'],exp['retention_1'])"
   ]
  },
  {
   "cell_type": "markdown",
   "id": "7b6b8a74",
   "metadata": {},
   "source": [
    "We can not reject the null hypothesis at the level of 1 days retention, because the p-value is lager than alpha = 0.05."
   ]
  },
  {
   "cell_type": "code",
   "execution_count": 17,
   "id": "9fd38eb5",
   "metadata": {},
   "outputs": [
    {
     "name": "stdout",
     "output_type": "stream",
     "text": [
      "z-score : 3.157115501031721 , p-value : 0.0015933821914237978\n"
     ]
    }
   ],
   "source": [
    "# H0: w1=w2 ; same mean of retention_7 for two groups\n",
    "# H1: w1!=w2\n",
    "AB_testing(cont['retention_7'],exp['retention_7'])"
   ]
  },
  {
   "cell_type": "markdown",
   "id": "641191bd",
   "metadata": {},
   "source": [
    "There is sufficient evidence to declare a difference in the average 7 days retention for the two groups, As the p-value is less than alpha = 0.05 we can reject the null hypothesis at the level of 7 days retention."
   ]
  },
  {
   "cell_type": "code",
   "execution_count": 18,
   "id": "39c14e14",
   "metadata": {},
   "outputs": [
    {
     "name": "stdout",
     "output_type": "stream",
     "text": [
      "gate30: Test Stat = 0.4886, p-value = 0.0000\n",
      "gate40: Test Stat = 0.4826, p-value = 0.0000\n"
     ]
    },
    {
     "name": "stderr",
     "output_type": "stream",
     "text": [
      "C:\\Users\\nian\\anaconda3\\lib\\site-packages\\scipy\\stats\\morestats.py:1760: UserWarning: p-value may not be accurate for N > 5000.\n",
      "  warnings.warn(\"p-value may not be accurate for N > 5000.\")\n"
     ]
    }
   ],
   "source": [
    "# Shapiro-Wilk Test\n",
    "# Tests the conformity of the data to the normal distribution\n",
    "# H0:Data have a normal distribution\n",
    "# H1:Data do not have a normal distribution\n",
    " \n",
    "test_stat1, pvalue1 = shapiro(cont['sum_gamerounds'])\n",
    "test_stat2, pvalue2 = shapiro(exp['sum_gamerounds'])\n",
    "print(\"gate30: Test Stat = %.4f, p-value = %.4f\" % (test_stat1, pvalue1))\n",
    "print(\"gate40: Test Stat = %.4f, p-value = %.4f\" % (test_stat2, pvalue2))"
   ]
  },
  {
   "cell_type": "markdown",
   "id": "952c21be",
   "metadata": {},
   "source": [
    "In both cases, p-value = 0. The normality assumption was rejected because it was less than 0.05."
   ]
  },
  {
   "cell_type": "code",
   "execution_count": 19,
   "id": "145796bf",
   "metadata": {},
   "outputs": [
    {
     "name": "stdout",
     "output_type": "stream",
     "text": [
      "Test Stat = 0.0751, p-value = 0.7840\n"
     ]
    }
   ],
   "source": [
    "# Levene's Test \n",
    "# Tests whether the variances of the groups are homogeneous\n",
    "# H0:groups are homogeneous\n",
    "# H1:groups are not homogeneous\n",
    "\n",
    "test_stat3, pvalue3 = levene(cont['sum_gamerounds'],exp['sum_gamerounds'])\n",
    "print(\"Test Stat = %.4f, p-value = %.4f\" % (test_stat3, pvalue3))"
   ]
  },
  {
   "cell_type": "markdown",
   "id": "dde9363e",
   "metadata": {},
   "source": [
    "In this case, p-value = 0.7840. Groups are homogeneous because it was lager than 0.05."
   ]
  },
  {
   "cell_type": "code",
   "execution_count": 20,
   "id": "e09deefd",
   "metadata": {},
   "outputs": [
    {
     "name": "stdout",
     "output_type": "stream",
     "text": [
      "Test Stat = 1024285761.5000, p-value = 0.0509\n"
     ]
    }
   ],
   "source": [
    "# Apply Mann-Whitney U Test\n",
    "test_stat4, pvalue4 = mannwhitneyu(cont['sum_gamerounds'],exp['sum_gamerounds'])\n",
    "print(\"Test Stat = %.4f, p-value = %.4f\" % (test_stat4, pvalue4))"
   ]
  },
  {
   "cell_type": "markdown",
   "id": "211957bc",
   "metadata": {},
   "source": [
    "H0 cannot be rejected because the p-value is greater than 0.05.\n",
    "That is, there is no statistically significant difference between 'gate30' and 'gate40' with 95% confidence. Therefore, the result came about by chance."
   ]
  },
  {
   "cell_type": "markdown",
   "id": "6809b2b9",
   "metadata": {},
   "source": [
    "### Conclusion"
   ]
  },
  {
   "cell_type": "markdown",
   "id": "fe1d0479",
   "metadata": {},
   "source": [
    "Percentage of returning players of control group after 7 day is 19.0%, whereas Percentage of returning players of experimental group is 18.2%. \n",
    "\n",
    "The initially found percentages show that movement of gate to the 40th level affects negatively on numbers of returning players after 7 days.\n",
    "\n",
    "By using the Mann-Whitney U Test, it shows ni statistically sifnificant difference between two groups. \n",
    "\n",
    "So we suggest keeping the gate at level 30."
   ]
  },
  {
   "cell_type": "code",
   "execution_count": null,
   "id": "e86e2290",
   "metadata": {},
   "outputs": [],
   "source": []
  }
 ],
 "metadata": {
  "kernelspec": {
   "display_name": "Python 3 (ipykernel)",
   "language": "python",
   "name": "python3"
  },
  "language_info": {
   "codemirror_mode": {
    "name": "ipython",
    "version": 3
   },
   "file_extension": ".py",
   "mimetype": "text/x-python",
   "name": "python",
   "nbconvert_exporter": "python",
   "pygments_lexer": "ipython3",
   "version": "3.9.12"
  }
 },
 "nbformat": 4,
 "nbformat_minor": 5
}
